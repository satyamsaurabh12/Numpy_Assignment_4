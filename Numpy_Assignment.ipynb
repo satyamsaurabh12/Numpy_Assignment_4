{
 "cells": [
  {
   "cell_type": "code",
   "execution_count": 1,
   "id": "1205257a-195c-4c63-96da-ed2641d4d52b",
   "metadata": {},
   "outputs": [
    {
     "name": "stdout",
     "output_type": "stream",
     "text": [
      "[0 1 2 3 4]\n",
      "int64\n"
     ]
    }
   ],
   "source": [
    "#Q1. Create a NumPy array 'arr' of integers from 0 to 5 and print its data type.\n",
    "import numpy as np \n",
    "ls=[i for i in range(0,5)]\n",
    "arr=np.array(ls)\n",
    "print(arr)\n",
    "print(arr.dtype)\n",
    "\n"
   ]
  },
  {
   "cell_type": "code",
   "execution_count": 2,
   "id": "09a3dcb7-f4b9-4719-9906-72b6cd13e70b",
   "metadata": {},
   "outputs": [
    {
     "name": "stdout",
     "output_type": "stream",
     "text": [
      "float64\n"
     ]
    }
   ],
   "source": [
    "#Q2. Given a NumPy array 'arr', check if its data type is float64.\n",
    "arr=np.array([1.5,2.6,3.7])\n",
    "print(arr.dtype)\n"
   ]
  },
  {
   "cell_type": "code",
   "execution_count": 3,
   "id": "c669d8e3-39c4-45d3-8db9-0b80c8b2c617",
   "metadata": {},
   "outputs": [
    {
     "name": "stdout",
     "output_type": "stream",
     "text": [
      "[2.+3.j 4.+5.j 2.+7.j]\n"
     ]
    }
   ],
   "source": [
    "#Q3.  Create a NumPy array 'arr' with a data type of complex128 containing three complex numbers. \n",
    "ls=[2+3j,4+5j,2+7j]\n",
    "arr=np.array(ls)\n",
    "print(arr)\n"
   ]
  },
  {
   "cell_type": "code",
   "execution_count": 4,
   "id": "01f85fd0-ec5b-42f6-926e-f6c7e813fc0e",
   "metadata": {},
   "outputs": [
    {
     "name": "stdout",
     "output_type": "stream",
     "text": [
      "int64\n",
      "float32\n",
      "[1. 4. 5. 6. 7. 8.]\n"
     ]
    }
   ],
   "source": [
    "#Q4. Convert an existing NumPy array 'arr' of integers to float32 data type.\n",
    "ls=[1,4,5,6,7,8]\n",
    "arr=np.array(ls)\n",
    "print(arr.dtype)\n",
    "\n",
    "arr=np.array(ls,dtype='float32')\n",
    "print(arr.dtype)\n",
    "print(arr)\n"
   ]
  },
  {
   "cell_type": "code",
   "execution_count": 5,
   "id": "f8765056-ded1-4551-b62d-1560479d35f7",
   "metadata": {},
   "outputs": [
    {
     "name": "stdout",
     "output_type": "stream",
     "text": [
      "float64\n",
      "[1.2 2.3 3.4 4.5]\n",
      "float32\n",
      "[1.2 2.3 3.4 4.5]\n"
     ]
    }
   ],
   "source": [
    "#Q5.  Given a NumPy array 'arr' with float64 data type, convert it to float32 to reduce decimal precision\n",
    "ls=[1.2,2.3,3.4,4.5]\n",
    "arr=np.array(ls)\n",
    "print(arr.dtype)\n",
    "print(arr)\n",
    "arr=np.array(ls,dtype='float32')\n",
    "print(arr.dtype)\n",
    "print(arr)\n"
   ]
  },
  {
   "cell_type": "code",
   "execution_count": 6,
   "id": "ba4fe262-1d78-41a7-acb3-fbbc84c59654",
   "metadata": {},
   "outputs": [
    {
     "name": "stdout",
     "output_type": "stream",
     "text": [
      "(7,)\n",
      "7\n",
      "int64\n"
     ]
    }
   ],
   "source": [
    "#Q6. Write a function array_attributes that takes a NumPy array as input and returns its shape, size, and data type. \n",
    "\n",
    "def func1(arr):\n",
    "    return arr.shape,arr.size,arr.dtype\n",
    "ls=[2,4,5,6,7,8,9]\n",
    "arr=np.array(ls)\n",
    "x,y,z=func1(arr)\n",
    "print(x)\n",
    "print(y)\n",
    "print(z)    \n"
   ]
  },
  {
   "cell_type": "code",
   "execution_count": 7,
   "id": "d7620cd3-4989-45a7-8789-5bfd239ad2d2",
   "metadata": {},
   "outputs": [
    {
     "name": "stdout",
     "output_type": "stream",
     "text": [
      "2\n"
     ]
    }
   ],
   "source": [
    "#Q7. Create a function array_dimension that takes a NumPy array as input and returns its dimensionality.\n",
    "def array_dimension(arr):\n",
    "    return arr.ndim\n",
    "ls=[[2,4,6],[6,7,8],[9,3,1]]\n",
    "arr=np.array(ls)\n",
    "x=array_dimension(arr)\n",
    "print(x)    \n"
   ]
  },
  {
   "cell_type": "code",
   "execution_count": 8,
   "id": "eefd2ba6-a307-40f4-876d-76bd805593c6",
   "metadata": {},
   "outputs": [
    {
     "name": "stdout",
     "output_type": "stream",
     "text": [
      "21\n",
      "3\n"
     ]
    }
   ],
   "source": [
    "#Q8. Design a function item_size_info that takes a NumPy array as input and returns the item size and the total \n",
    "# size in bytes. \n",
    "def item_size_info(arr):\n",
    "    if(arr.dtype=='float32'):\n",
    "        x=4*arr.size\n",
    "    elif(arr.dtype=='float64'):\n",
    "        x=8*arr.size\n",
    "    elif(arr.dtype=='int32'):\n",
    "        x=4*arr.size\n",
    "    elif(arr.dtype==chr):\n",
    "        x= 1*arr.size\n",
    "    else:\n",
    "        leng=0\n",
    "        for i in (arr):\n",
    "            leng=leng+len(i)\n",
    "        x=1*leng\n",
    "    return x,arr.size\n",
    "ls=[\"satyam\",\"saurabh\",\"shashank\"]\n",
    "arr=np.array(ls)\n",
    "x,y=item_size_info(arr)  \n",
    "print(x)\n",
    "print(y)               \n"
   ]
  },
  {
   "cell_type": "code",
   "execution_count": 9,
   "id": "c29a4038-331c-4f7c-800a-6c3128c4c29c",
   "metadata": {},
   "outputs": [
    {
     "name": "stdout",
     "output_type": "stream",
     "text": [
      "(8,)\n"
     ]
    }
   ],
   "source": [
    "#Q9. Create a function array_strides that takes a NumPy array as input and returns the strides of the array.\n",
    "def array_strides(arr):\n",
    "    return arr.strides\n",
    "ls=[1,2,3,4,5,6,7]\n",
    "arr=np.array(ls)    \n",
    "# print(arr)\n",
    "x=array_strides(arr)\n",
    "print(x)\n"
   ]
  },
  {
   "cell_type": "code",
   "execution_count": 10,
   "id": "016ff0d5-282d-4d3e-a475-45321b70fd8e",
   "metadata": {},
   "outputs": [
    {
     "name": "stdout",
     "output_type": "stream",
     "text": [
      "(4,)\n",
      "(8,)\n"
     ]
    }
   ],
   "source": [
    "#Q10. Design a function shape_stride_relationship that takes a NumPy array as input and returns the shape \n",
    "# and strides of the array.\n",
    "def shape_stride_relationship(arr):\n",
    "    return arr.shape, arr.strides\n",
    "ls=[1.2,3.5,6.7,8.9]\n",
    "arr=np.array(ls)\n",
    "x,y=shape_stride_relationship(arr)\n",
    "print(x)\n",
    "print(y)    \n"
   ]
  },
  {
   "cell_type": "code",
   "execution_count": 11,
   "id": "7b8509cd-0305-4989-a869-912a2ada7cbb",
   "metadata": {},
   "outputs": [
    {
     "name": "stdin",
     "output_type": "stream",
     "text": [
      "Enter your number is : 5\n"
     ]
    },
    {
     "name": "stdout",
     "output_type": "stream",
     "text": [
      "[0. 0. 0. 0. 0.]\n"
     ]
    }
   ],
   "source": [
    "#Q11.  Create a function `create_zeros_array` that takes an integer `n` as input and returns a NumPy array of \n",
    "# zeros with `n` elements.\n",
    "def create_zeros_array(n):\n",
    "    return np.zeros(n)\n",
    "n=int(input(\"Enter your number is :\"))\n",
    "print(create_zeros_array(n))    \n"
   ]
  },
  {
   "cell_type": "code",
   "execution_count": 18,
   "id": "1ec752f8-2ba1-4b36-8182-ac36be7d53db",
   "metadata": {},
   "outputs": [
    {
     "name": "stdin",
     "output_type": "stream",
     "text": [
      "Enter your row is : 5\n",
      "Enter your column is : 3\n"
     ]
    },
    {
     "name": "stdout",
     "output_type": "stream",
     "text": [
      "[[1 1 1]\n",
      " [1 1 1]\n",
      " [1 1 1]\n",
      " [1 1 1]\n",
      " [1 1 1]]\n"
     ]
    }
   ],
   "source": [
    "#Q12. Write a function `create_ones_matrix` that takes integers `rows` and `cols` as inputs and generates a 2D \n",
    "# NumPy array filled with ones of size `rows x cols`.\n",
    "def create_ones_matrix(x,y):\n",
    "    arr=[]\n",
    "    for i in range (0,x):\n",
    "        arr1=[]\n",
    "        for j in range(0,y):\n",
    "            arr1.append(1)\n",
    "        arr.append(arr1)\n",
    "    arr2=np.array(arr)\n",
    "    return arr2\n",
    "x=int(input(\"Enter your row is :\"))\n",
    "y=int(input(\"Enter your column is :\"))\n",
    "print(create_ones_matrix(x,y))            \n"
   ]
  },
  {
   "cell_type": "code",
   "execution_count": 12,
   "id": "7de123ac-1df6-43c3-af2c-d146f22649d1",
   "metadata": {},
   "outputs": [
    {
     "name": "stdin",
     "output_type": "stream",
     "text": [
      "Enter your first number is : 1\n",
      "Enter your second no: 20\n",
      "Enter your third number is : 3\n"
     ]
    },
    {
     "name": "stdout",
     "output_type": "stream",
     "text": [
      "[ 1  4  7 10 13 16 19]\n"
     ]
    }
   ],
   "source": [
    "#Q13. Write a function `generate_range_array` that takes three integers start, stop, and step as arguments and \n",
    "# creates a NumPy array with a range starting from `start`, ending at stop (exclusive), and with the specified \n",
    "# `step`.\n",
    "def generate_range_array(x,y,z):\n",
    "    ls=list(range(x,y,z))\n",
    "    arr=np.array(ls)\n",
    "    return arr\n",
    "x=int(input(\"Enter your first number is :\"))\n",
    "y=int(input(\"Enter your second no:\"))\n",
    "z=int(input(\"Enter your third number is :\"))\n",
    "ls1=generate_range_array(x,y,z)\n",
    "print(ls1)\n"
   ]
  },
  {
   "cell_type": "code",
   "execution_count": 13,
   "id": "ff4fc768-355b-43a0-ad2d-bc209a9a4335",
   "metadata": {},
   "outputs": [
    {
     "name": "stdin",
     "output_type": "stream",
     "text": [
      "Enter your first number is : 1\n",
      "Enter your second no: 20\n",
      "Enter your third number is : 3\n"
     ]
    },
    {
     "name": "stdout",
     "output_type": "stream",
     "text": [
      "[ 1.  10.5 20. ]\n"
     ]
    }
   ],
   "source": [
    "#Q14. Design a function `generate_linear_space` that takes two floats `start`, `stop`, and an integer `num` as \n",
    "# arguments and generates a NumPy array with num equally spaced values between `start` and `stop` \n",
    "# (inclusive).\n",
    "def generate_linear_space(x,y,z):\n",
    "    return np.linspace(x,y,z)\n",
    "x=int(input(\"Enter your first number is :\"))\n",
    "y=int(input(\"Enter your second no:\"))\n",
    "z=int(input(\"Enter your third number is :\")) \n",
    "print(generate_linear_space(x,y,z))   \n"
   ]
  },
  {
   "cell_type": "code",
   "execution_count": 14,
   "id": "a4b88ed7-965a-407e-a843-925385b12de8",
   "metadata": {},
   "outputs": [
    {
     "name": "stdin",
     "output_type": "stream",
     "text": [
      "Enter your n is : 5\n"
     ]
    },
    {
     "name": "stdout",
     "output_type": "stream",
     "text": [
      "[[1. 0. 0. 0. 0.]\n",
      " [0. 1. 0. 0. 0.]\n",
      " [0. 0. 1. 0. 0.]\n",
      " [0. 0. 0. 1. 0.]\n",
      " [0. 0. 0. 0. 1.]]\n"
     ]
    }
   ],
   "source": [
    "#Q15. Create a function `create_identity_matrix` that takes an integer `n` as input and generates a square \n",
    "# identity matrix of size `n x n` using `numpy.eye`.\n",
    "def create_identity_matrix(n):\n",
    "    return np.eye(n)\n",
    "\n",
    "n=int(input(\"Enter your n is :\"))\n",
    "arr1=create_identity_matrix(n)\n",
    "print(arr1)\n"
   ]
  },
  {
   "cell_type": "code",
   "execution_count": 15,
   "id": "0ea4d760-0328-4757-a6d8-81f3ddabf899",
   "metadata": {},
   "outputs": [
    {
     "name": "stdout",
     "output_type": "stream",
     "text": [
      "[1 2 3 4 5 6 7 8 9]\n"
     ]
    }
   ],
   "source": [
    "#Q16. Write a function that takes a Python list and converts it into a NumPy array.\n",
    "def converter(ls):\n",
    "    return np.array(ls)\n",
    "ls=[1,2,3,4,5,6,7,8,9]\n",
    "arr1=converter(ls)    \n",
    "print(arr1)\n"
   ]
  },
  {
   "cell_type": "code",
   "execution_count": 16,
   "id": "c56fae73-f406-459b-8b09-662e072dfec9",
   "metadata": {},
   "outputs": [
    {
     "name": "stdout",
     "output_type": "stream",
     "text": [
      "[10 23 43 26 45]\n",
      "[1000   23   43   26   45]\n",
      "[1000   23   43   26   45]\n"
     ]
    }
   ],
   "source": [
    "#Q17. Create a NumPy array and demonstrate the use of `numpy.view` to create a new array object with the \n",
    "# same data.\n",
    "ls1=[10,23,43,26,45]\n",
    "arr=np.array(ls1)\n",
    "arr1=arr.view()\n",
    "print(arr1)\n",
    "arr1[0]=1000\n",
    "print(arr)\n",
    "print(arr1)\n"
   ]
  },
  {
   "cell_type": "code",
   "execution_count": 17,
   "id": "cbe3b2c7-2c6f-46f1-b370-7f2d9bb762f2",
   "metadata": {},
   "outputs": [
    {
     "name": "stdout",
     "output_type": "stream",
     "text": [
      "[1 2 3 4 2 3 4 6]\n"
     ]
    }
   ],
   "source": [
    "#Q18. Write a function that takes two NumPy arrays and concatenates them along a specified axis\n",
    "def func1(arr1,arr2):\n",
    "    return np.concatenate([arr1,arr2],axis=0)\n",
    "ls=[1,2,3,4]\n",
    "ls1=[2,3,4,6]\n",
    "arr=func1(ls,ls1)\n",
    "print(arr)    \n"
   ]
  },
  {
   "cell_type": "code",
   "execution_count": 19,
   "id": "b0ffb21d-60e9-4c9e-ade0-f8a32791a768",
   "metadata": {},
   "outputs": [
    {
     "name": "stdout",
     "output_type": "stream",
     "text": [
      "[ 5  6 78  9  1  2  3  4  5]\n"
     ]
    }
   ],
   "source": [
    "#Q19.  Create two NumPy arrays with different shapes and concatenate them horizontally using `numpy.\n",
    "#  concatenate`.\n",
    "ls=[1,2,3,4,5]\n",
    "ls1=[5,6,78,9]\n",
    "arr=np.concatenate([ls1,ls])\n",
    "print(arr)\n"
   ]
  },
  {
   "cell_type": "code",
   "execution_count": 20,
   "id": "22c09b8b-ea69-42a7-b0ac-3537732046e7",
   "metadata": {},
   "outputs": [
    {
     "name": "stdout",
     "output_type": "stream",
     "text": [
      "[[1 2 3]\n",
      " [4 5 6]\n",
      " [7 8 9]]\n"
     ]
    }
   ],
   "source": [
    "#Q20. Write a function that vertically stacks multiple NumPy arrays given as a list\n",
    "import numpy as np\n",
    "\n",
    "def vertical_stack(arrays):\n",
    "    return np.vstack(arrays)\n",
    "arrays = [np.array([1, 2, 3]), np.array([4, 5, 6]), np.array([7, 8, 9])]\n",
    "stacked_array = vertical_stack(arrays)\n",
    "print(stacked_array)\n"
   ]
  },
  {
   "cell_type": "code",
   "execution_count": 21,
   "id": "a2082cc0-77cd-41f2-86c7-4f429310e9fd",
   "metadata": {},
   "outputs": [
    {
     "name": "stdin",
     "output_type": "stream",
     "text": [
      "starting index is : 2\n",
      "ending index is : 9\n",
      "step size is: 2\n"
     ]
    },
    {
     "name": "stdout",
     "output_type": "stream",
     "text": [
      "[2 4 6 8]\n"
     ]
    }
   ],
   "source": [
    "#Q21. Write a Python function using NumPy to create an array of integers within a specified range (inclusive) \n",
    "# with a given step size.\n",
    "def func(x,y):\n",
    "    z=int(input(\"step size is:\"))\n",
    "    arr=np.arange(x,y,z)\n",
    "    return arr\n",
    "x=int(input(\"starting index is :\"))\n",
    "y=int(input(\"ending index is :\"))  \n",
    "arr=func(x,y)\n",
    "print(arr)\n"
   ]
  },
  {
   "cell_type": "code",
   "execution_count": 22,
   "id": "5bc6119d-8a44-44c5-ac1e-c79d74cdac19",
   "metadata": {},
   "outputs": [
    {
     "name": "stdin",
     "output_type": "stream",
     "text": [
      "Enter n: 5\n"
     ]
    },
    {
     "name": "stdout",
     "output_type": "stream",
     "text": [
      "[0.   0.25 0.5  0.75 1.  ]\n"
     ]
    }
   ],
   "source": [
    "#Q22.  Write a Python function using NumPy to generate an array of 10 equally spaced values between 0 and 1 \n",
    "# (inclusive).\n",
    "def func(spaced_gap):\n",
    "    return np.linspace(0,1,spaced_gap)\n",
    "n=int(input(\"Enter n:\"))\n",
    "arr=func(n)\n",
    "print(arr)    \n"
   ]
  },
  {
   "cell_type": "code",
   "execution_count": 23,
   "id": "da88f2a7-78c6-4fa6-953a-6d0555ad5048",
   "metadata": {},
   "outputs": [
    {
     "name": "stdin",
     "output_type": "stream",
     "text": [
      "Enter your n : 5\n"
     ]
    },
    {
     "name": "stdout",
     "output_type": "stream",
     "text": [
      "[1.00000000e+001 5.62341325e+250             inf             inf\n",
      "             inf]\n"
     ]
    },
    {
     "name": "stderr",
     "output_type": "stream",
     "text": [
      "/opt/conda/lib/python3.10/site-packages/numpy/core/function_base.py:277: RuntimeWarning: overflow encountered in power\n",
      "  return _nx.power(base, y)\n"
     ]
    }
   ],
   "source": [
    "#Q23. Write a Python function using NumPy to create an array of 5 logarithmically spaced values between 1 and \n",
    "# 1000 (inclusive).\n",
    "def func(spaced_gap):\n",
    "    return np.logspace(1,1000,spaced_gap)\n",
    "n=int(input(\"Enter your n :\"))\n",
    "arr=func(n)\n",
    "print(arr)    \n"
   ]
  },
  {
   "cell_type": "code",
   "execution_count": 24,
   "id": "43709eaa-41b5-4049-b278-b040c8787395",
   "metadata": {},
   "outputs": [
    {
     "name": "stdout",
     "output_type": "stream",
     "text": [
      "[[29 13  2]\n",
      " [87 42 34]\n",
      " [25 98 42]\n",
      " [71 89 44]\n",
      " [13 96 80]]\n",
      "    0   1   2\n",
      "0  29  13   2\n",
      "1  87  42  34\n",
      "2  25  98  42\n",
      "3  71  89  44\n",
      "4  13  96  80\n"
     ]
    }
   ],
   "source": [
    "#Q24.  Create a Pandas DataFrame using a NumPy array that contains 5 rows and 3 columns, where the values \n",
    "# are random integers between 1 and 100\n",
    "arr=np.random.randint(1,100 ,(5,3))\n",
    "print(arr)\n",
    "import pandas as pd\n",
    "df=pd.DataFrame(arr)\n",
    "print(df)\n"
   ]
  },
  {
   "cell_type": "code",
   "execution_count": 25,
   "id": "53fe399b-4739-494f-994b-29c96683e4e7",
   "metadata": {},
   "outputs": [
    {
     "name": "stdout",
     "output_type": "stream",
     "text": [
      "    0\n",
      "0   0\n",
      "1   0\n",
      "2  20\n",
      "3   0\n",
      "4   4\n",
      "5   7\n",
      "6  32\n",
      "7  23\n",
      "8  45\n"
     ]
    }
   ],
   "source": [
    "#Q25.  Write a function that takes a Pandas DataFrame and replaces all negative values in a specific column \n",
    "# with zeros. Use NumPy operations within the Pandas DataFrame.\n",
    "lis=[-2,-4,20,-10,4,7,32,23,45]\n",
    "arr=np.array(lis)\n",
    "import pandas as pd\n",
    "df=pd.DataFrame(arr)\n",
    "df[0]=df[0].apply(lambda x: 0 if x<0 else x)\n",
    "print(df)\n"
   ]
  },
  {
   "cell_type": "code",
   "execution_count": 26,
   "id": "b5b80c9c-2ed5-4ba6-aec6-75f52f09098a",
   "metadata": {},
   "outputs": [
    {
     "name": "stdout",
     "output_type": "stream",
     "text": [
      "30\n"
     ]
    }
   ],
   "source": [
    "#Q26. Access the 3rd element from the given NumPy array.\n",
    "arr=np.array([10,20,30,40,50])\n",
    "print(arr[2])\n"
   ]
  },
  {
   "cell_type": "code",
   "execution_count": 27,
   "id": "f9e97fe2-9dd3-4831-b533-972c869cd576",
   "metadata": {},
   "outputs": [
    {
     "name": "stdout",
     "output_type": "stream",
     "text": [
      "6\n"
     ]
    }
   ],
   "source": [
    "#Q27.  Retrieve the element at index (1, 2) from the 2D NumPy array\n",
    "arr=np.array([[1,2,3],[4,5,6],[7,8,9]])\n",
    "print(arr[1][2])\n"
   ]
  },
  {
   "cell_type": "code",
   "execution_count": 28,
   "id": "010e5ac4-4df3-4eaa-a719-38d21d7d6b5e",
   "metadata": {},
   "outputs": [
    {
     "name": "stdout",
     "output_type": "stream",
     "text": [
      "[ 8 10  7]\n"
     ]
    }
   ],
   "source": [
    "#Q28. Using boolean indexing, extract elements greater than 5 from the given NumPy array.\n",
    "arr=np.array([3,8,2,10,5,7])\n",
    "print(arr[arr>5])\n"
   ]
  },
  {
   "cell_type": "code",
   "execution_count": 29,
   "id": "0ff14a44-d6c3-4873-b5df-2b1653799f44",
   "metadata": {},
   "outputs": [
    {
     "name": "stdout",
     "output_type": "stream",
     "text": [
      "[3 4 5 6]\n"
     ]
    }
   ],
   "source": [
    "#Q29.  Perform basic slicing to extract elements from index 2 to 5 (inclusive) from the given NumPy array.\n",
    "arr=np.array([1,2,3,4,5,6,7,8,9])\n",
    "print(arr[2:6])\n"
   ]
  },
  {
   "cell_type": "code",
   "execution_count": 30,
   "id": "6a207d49-a21a-4646-8288-737f3b8c9f91",
   "metadata": {},
   "outputs": [
    {
     "name": "stdout",
     "output_type": "stream",
     "text": [
      "[[2 3]\n",
      " [5 6]]\n"
     ]
    }
   ],
   "source": [
    "#Q30. Slice the 2D NumPy array to extract the sub-array `[[2, 3], [5, 6]]` from the given array.\n",
    "arr=np.array([[1,2,3],[4,5,6],[7,8,9]])\n",
    "print(arr[0:2 ,1:])\n"
   ]
  },
  {
   "cell_type": "code",
   "execution_count": 31,
   "id": "86cf2d86-ce5d-4792-b0f4-ef8ac12b27cf",
   "metadata": {},
   "outputs": [
    {
     "name": "stdout",
     "output_type": "stream",
     "text": [
      "[  3   7   1   9  34  65 100]\n",
      "[0 1 5 3 2 4]\n",
      "3\n",
      "7\n",
      "65\n",
      "9\n",
      "1\n",
      "34\n"
     ]
    }
   ],
   "source": [
    "#Q31. .Write a NumPy function to extract elements in specific order from a given 2D array based on indices \n",
    "# provided in another array\n",
    "def func(arr,arr1):\n",
    "    for i in arr1:\n",
    "        print(arr[i])\n",
    "\n",
    "ls1=[3,7,1,9,34,65,100]\n",
    "index=[0,1,5,3,2,4]\n",
    "arr=np.array(ls1)\n",
    "print(arr)\n",
    "index1=np.array(index)\n",
    "print(index1)\n",
    "func(arr,index1)\n"
   ]
  },
  {
   "cell_type": "code",
   "execution_count": 32,
   "id": "4121ccb6-11ba-42e2-9d4d-bab2d3437c15",
   "metadata": {},
   "outputs": [
    {
     "name": "stdout",
     "output_type": "stream",
     "text": [
      "[5 5 5 6 3 7 4 7 8 9]\n"
     ]
    },
    {
     "name": "stdin",
     "output_type": "stream",
     "text": [
      "Enter your threshold: 3\n"
     ]
    },
    {
     "name": "stdout",
     "output_type": "stream",
     "text": [
      "[5 5 5 6 7 4 7 8 9]\n"
     ]
    }
   ],
   "source": [
    "#Q32.  Create a NumPy function that filters elements greater than a threshold from a given 1D array using \n",
    "# boolean indexing.\n",
    "arr=np.random.randint(1,10,10)\n",
    "print(arr)\n",
    "threshold=int(input(\"Enter your threshold:\"))\n",
    "result=arr[arr>threshold]\n",
    "print(result)     \n"
   ]
  },
  {
   "cell_type": "code",
   "execution_count": 33,
   "id": "eb972a24-79e8-4793-9c77-5aa84013bc6a",
   "metadata": {},
   "outputs": [
    {
     "name": "stdout",
     "output_type": "stream",
     "text": [
      "[array([[14, 44],\n",
      "       [22, 44],\n",
      "       [10,  1]]), array([[16,  3],\n",
      "       [10, 49],\n",
      "       [47, 44]]), array([[43, 46],\n",
      "       [ 8,  9],\n",
      "       [47, 30]])]\n",
      "14\n",
      "44\n",
      "22\n",
      "44\n",
      "10\n",
      "1\n",
      "16\n",
      "3\n",
      "10\n",
      "49\n",
      "47\n",
      "44\n",
      "43\n",
      "46\n",
      "8\n",
      "9\n",
      "47\n",
      "30\n"
     ]
    }
   ],
   "source": [
    "#Q33. Develop a NumPy function that extracts specific elements from a 3D array using indices provided in three \n",
    "# separate arrays for each dimension\n",
    "def func(arr,arr1,arr2,arr3):\n",
    "    arr4 = [arr[i] for i in range(len(arr1))]\n",
    "    print(arr4)\n",
    "    for i in arr1:\n",
    "        for j in arr2:\n",
    "            for k in arr3:\n",
    "                print(arr[i][j][k])\n",
    "arr=np.random.randint(1,50,(3,3,2))\n",
    "# print(arr)\n",
    "ls1=[0,1,2]\n",
    "ls2=[0,1,2]\n",
    "ls3=[0,1]\n",
    "arr1=np.array(ls1)\n",
    "arr2=np.array(ls2)\n",
    "arr3=np.array(ls3)\n",
    "func(arr,arr1,arr2,arr3)\n"
   ]
  },
  {
   "cell_type": "code",
   "execution_count": 34,
   "id": "332a066d-de08-4e67-ad17-c28d298484c1",
   "metadata": {},
   "outputs": [
    {
     "name": "stdout",
     "output_type": "stream",
     "text": [
      "[48]\n"
     ]
    }
   ],
   "source": [
    "#Q34.  Write a NumPy function that returns elements from an array where both two conditions are satisfied \n",
    "# using boolean indexing.\n",
    "\n",
    "def condition1(i):\n",
    "    if i%4==0:\n",
    "        return i\n",
    "def condition2(i):\n",
    "    if(i%3==0):\n",
    "        return i \n",
    "def function1(arr): \n",
    "    s=[]\n",
    "    for i in range(len(arr)):\n",
    "        for j in range(arr.size//len(arr)):\n",
    "            if(condition1(arr[i][j]) and condition2(arr[i][j])):\n",
    "                s.append(arr[i][j])\n",
    "    return s\n",
    "\n",
    "arr=np.random.randint(1,50,(3,4))\n",
    "# print(arr)\n",
    "arr1=function1(arr)\n",
    "print(arr1)\n"
   ]
  },
  {
   "cell_type": "code",
   "execution_count": 35,
   "id": "51200b1f-94fd-4e6a-baf7-eaae0bdbbc6d",
   "metadata": {},
   "outputs": [
    {
     "name": "stdin",
     "output_type": "stream",
     "text": [
      "Enter your row is : 3\n",
      "Enter your column is : 4\n"
     ]
    },
    {
     "name": "stdout",
     "output_type": "stream",
     "text": [
      "28\n",
      "29\n",
      "9\n",
      "14\n",
      "11\n",
      "13\n",
      "27\n",
      "23\n",
      "12\n",
      "18\n",
      "25\n",
      "13\n"
     ]
    }
   ],
   "source": [
    "#Q35. Create a NumPy function that extracts elements from a 2D array using row and column indices provided \n",
    "# in separate arrays.\n",
    "def func(arr,row1,col1):\n",
    "    for i in range(len(row1)):\n",
    "        for j in range(len(col1)):\n",
    "            print(arr[i][j])\n",
    "r1=int(input(\"Enter your row is :\"))\n",
    "c1=int(input(\"Enter your column is :\"))\n",
    "arr=np.random.randint(1,30,(r1,c1))\n",
    "row1=[i for i in range(r1)]\n",
    "col1=[i for i in range(c1)]\n",
    "func(arr,row1,col1)\n"
   ]
  },
  {
   "cell_type": "code",
   "execution_count": 36,
   "id": "32cf9c83-4fbd-4c86-a87a-057e4fe74f9e",
   "metadata": {},
   "outputs": [
    {
     "name": "stdout",
     "output_type": "stream",
     "text": [
      "[[2 9 4]\n",
      " [2 4 8]\n",
      " [3 4 9]]\n",
      "[[ 7 14  9]\n",
      " [ 7  9 13]\n",
      " [ 8  9 14]]\n"
     ]
    }
   ],
   "source": [
    "#Q36. Given an array arr of shape (3, 3), add a scalar value of 5 to each element using NumPy broadcasting.\n",
    "arr=np.random.randint(1,10,(3,3))\n",
    "print(arr)\n",
    "arr1=[5]\n",
    "print(arr+arr1)\n",
    "\n"
   ]
  },
  {
   "cell_type": "code",
   "execution_count": 37,
   "id": "3bf680a7-8d12-432d-8c8d-532e7d00cd59",
   "metadata": {},
   "outputs": [
    {
     "name": "stdout",
     "output_type": "stream",
     "text": [
      "[[4]\n",
      " [3]\n",
      " [3]]\n",
      "[[3 3 3 1]\n",
      " [1 1 1 3]\n",
      " [3 3 2 1]]\n",
      "[[12 12 12  4]\n",
      " [ 3  3  3  9]\n",
      " [ 9  9  6  3]]\n"
     ]
    }
   ],
   "source": [
    "#Q37. Consider two arrays arr1 of shape (1, 3) and arr2 of shape (3, 4). Multiply each row of arr2 by the \n",
    "# corresponding element in arr1 using NumPy broadcasting\n",
    "\n",
    "arr=np.random.randint(1,5,(1,3))\n",
    "arr1=np.random.randint(1,4,(3,4))\n",
    "arr2=arr.reshape(3,1)\n",
    "print(arr2)\n",
    "print(arr1)\n",
    "print(arr1*arr2)\n"
   ]
  },
  {
   "cell_type": "code",
   "execution_count": 39,
   "id": "ffb7ee2f-01b8-4b45-b4f8-50e94022ff93",
   "metadata": {},
   "outputs": [
    {
     "name": "stdout",
     "output_type": "stream",
     "text": [
      "[[ 5 11  5  9]\n",
      " [ 9  6 11 10]\n",
      " [10 12  9 11]]\n"
     ]
    }
   ],
   "source": [
    "#Q38.  Given a 1D array arr1 of shape (1, 4) and a 2D array arr2 of shape (4, 3), add arr1 to each row of arr2 using \n",
    "# NumPy broadcasting.\n",
    "arr1=np.random.randint(1,5,(1,4))\n",
    "arr2=np.random.randint(1,10,(4,3))\n",
    "arr2=arr2.reshape((3,4))\n",
    "arr=arr2 + arr1\n",
    "print(arr)\n"
   ]
  },
  {
   "cell_type": "code",
   "execution_count": 40,
   "id": "7ea32661-0f8d-4e82-91fb-7964e3926807",
   "metadata": {},
   "outputs": [
    {
     "name": "stdout",
     "output_type": "stream",
     "text": [
      "[[13  8 10]\n",
      " [10  5  7]\n",
      " [12  7  9]]\n"
     ]
    }
   ],
   "source": [
    "#Q39.  Consider two arrays arr1 of shape (3, 1) and arr2 of shape (1, 3). Add these arrays using NumPy \n",
    "# broadcasting.\n",
    "arr1=np.random.randint(1,5,(3,1))\n",
    "arr2=np.random.randint(1,10,(1,3))\n",
    "arr=arr2 + arr1\n",
    "print(arr)\n"
   ]
  },
  {
   "cell_type": "code",
   "execution_count": 41,
   "id": "2799bf93-3f3a-42fd-a5f5-0c1ccf08c64e",
   "metadata": {},
   "outputs": [
    {
     "name": "stdout",
     "output_type": "stream",
     "text": [
      "[[48 42 12]\n",
      " [63 27 18]]\n"
     ]
    }
   ],
   "source": [
    "#Q40.  Given arrays arr1 of shape (2, 3) and arr2 of shape (2, 2), perform multiplication using NumPy \n",
    "# broadcasting. Handle the shape incompatibility.\n",
    "arr1=np.random.randint(1,10,(2,3))\n",
    "arr2=np.random.randint(1,10,(2,2))\n",
    "# handle shape compatibility\n",
    "arr3=arr2[:,1]   # slicing here\n",
    "arr4=arr3.reshape((2,1)) # making the shape (2,1)\n",
    "arr=arr1*arr4 \n",
    "print(arr)\n",
    "\n",
    "\n"
   ]
  },
  {
   "cell_type": "code",
   "execution_count": 42,
   "id": "4e76807f-8cce-436e-8b71-5d447f023824",
   "metadata": {},
   "outputs": [
    {
     "name": "stdout",
     "output_type": "stream",
     "text": [
      "[[1 2 3]\n",
      " [4 5 6]]\n",
      "3\n",
      "2.5\n",
      "3.5\n",
      "4.5\n"
     ]
    }
   ],
   "source": [
    "#Q41.  Calculate column-wise mean for the given array:\n",
    "arr = np.array([[1, 2, 3], [4, 5, 6]])\n",
    "print(arr)\n",
    "col=arr.size//len(arr)\n",
    "print(col)\n",
    "for i in range(col):\n",
    "    print(arr[:,i].mean())\n"
   ]
  },
  {
   "cell_type": "code",
   "execution_count": 43,
   "id": "2a1e0b95-b609-4a01-8654-ea5afec32157",
   "metadata": {},
   "outputs": [
    {
     "name": "stdout",
     "output_type": "stream",
     "text": [
      "3\n",
      "6\n"
     ]
    }
   ],
   "source": [
    "#Q42. Find maximum value in each row of the given array:\n",
    "arr = np.array([[1, 2, 3], [4, 5, 6]])\n",
    "for i in range(len(arr)):\n",
    "    print(arr[i].max())\n"
   ]
  },
  {
   "cell_type": "code",
   "execution_count": 44,
   "id": "a1f1bfcb-c99f-43d6-960d-d0eec82cc610",
   "metadata": {},
   "outputs": [
    {
     "name": "stdout",
     "output_type": "stream",
     "text": [
      "the col indexes 0: its maximum value 4 and indices is row index 1 and col index 0\n",
      "\n",
      "the col indexes 1: its maximum value 5 and indices is row index 1 and col index 1\n",
      "\n",
      "the col indexes 2: its maximum value 6 and indices is row index 1 and col index 2\n",
      "\n"
     ]
    }
   ],
   "source": [
    "#Q43. For the given array, find indices of maximum value in each column. \n",
    "arr = np.array([[1, 2, 3], [4, 5, 6]])\n",
    "col=arr.size//len(arr)\n",
    "for i in range(col):\n",
    "    maxi=0\n",
    "    r=0\n",
    "    c=0\n",
    "    for j in range(len(arr)):\n",
    "        if(maxi<arr[j][i]):\n",
    "            maxi=arr[j][i]\n",
    "            r=j\n",
    "            c=i\n",
    "    print(f\"the col indexes {i}: its maximum value {maxi} and indices is row index {r} and col index {c}\\n\")\n",
    "\n"
   ]
  },
  {
   "cell_type": "code",
   "execution_count": 45,
   "id": "074b2f9c-3b05-438e-90f5-bb8c03919192",
   "metadata": {},
   "outputs": [
    {
     "name": "stdout",
     "output_type": "stream",
     "text": [
      "6\n",
      "15\n"
     ]
    }
   ],
   "source": [
    "#Q44. For the given array, apply custom function to calculate moving sum along rows. \n",
    "arr = np.array([[1, 2, 3], [4, 5, 6]])\n",
    "for i in range(len(arr)):\n",
    "    print(arr[i].sum())\n"
   ]
  },
  {
   "cell_type": "code",
   "execution_count": 46,
   "id": "83d7f52e-1c29-4468-81ca-6a58548ebfec",
   "metadata": {},
   "outputs": [
    {
     "name": "stdout",
     "output_type": "stream",
     "text": [
      "False\n",
      "False\n",
      "False\n"
     ]
    }
   ],
   "source": [
    "#Q45. In the given array, check if all elements in each column are even.\n",
    "def Even_Col(arr):\n",
    "    for i in range(len(arr)):\n",
    "        if(arr[i]%2!=0):\n",
    "            return False\n",
    "    return True\n",
    "\n",
    "arr = np.array([[2, 4, 6], [3, 5, 7]])\n",
    "col=arr.size//len(arr)\n",
    "for i in range(col):\n",
    "    arr1=arr[:,i]\n",
    "    print(Even_Col(arr1))\n",
    "    \n"
   ]
  },
  {
   "cell_type": "code",
   "execution_count": 47,
   "id": "2168ddf9-25fd-44df-a1ff-9ee63cfb2918",
   "metadata": {},
   "outputs": [
    {
     "name": "stdin",
     "output_type": "stream",
     "text": [
      "Enter your m is : 3\n",
      "Enter your n is : 4\n"
     ]
    },
    {
     "name": "stdout",
     "output_type": "stream",
     "text": [
      "Invalid input of row and column\n"
     ]
    }
   ],
   "source": [
    "#Q46. Given a NumPy array arr, reshape it into a matrix of dimensions `m` rows and `n` columns. Return the \n",
    "# reshaped matrix.\n",
    "ori_arr= np.array([1, 2, 3, 4, 5, 6])\n",
    "siz=ori_arr.size\n",
    "m=int(input(\"Enter your m is :\"))\n",
    "n=int(input(\"Enter your n is :\"))\n",
    "if(m*n==siz):\n",
    "    arr=ori_arr.reshape(m,n)\n",
    "    print(arr)\n",
    "else:\n",
    "    print(\"Invalid input of row and column\")   \n"
   ]
  },
  {
   "cell_type": "code",
   "execution_count": 48,
   "id": "e49a730e-11a6-40f5-97fc-e85dc0a2e9e6",
   "metadata": {},
   "outputs": [
    {
     "name": "stdout",
     "output_type": "stream",
     "text": [
      "[1 2 3 4 5 6]\n"
     ]
    }
   ],
   "source": [
    "#Q47. Create a function that takes a matrix as input and returns the flattened array\n",
    "in_mat = np.array([[1, 2, 3], [4, 5, 6]])\n",
    "arr=in_mat.flatten()\n",
    "print(arr)\n"
   ]
  },
  {
   "cell_type": "code",
   "execution_count": 49,
   "id": "334642dd-8c2d-412b-b02a-0604fa7c655a",
   "metadata": {},
   "outputs": [
    {
     "name": "stdout",
     "output_type": "stream",
     "text": [
      "[[1 2]\n",
      " [3 4]\n",
      " [5 6]\n",
      " [7 8]]\n",
      "[[1 2 5 6]\n",
      " [3 4 7 8]]\n"
     ]
    }
   ],
   "source": [
    "#Q48. Write a function that concatenates two given arrays along a specified axis.\n",
    "array1 = np.array([[1, 2], [3, 4]])\n",
    "array2 = np.array([[5, 6], [7, 8]])\n",
    "arr=np.concatenate([array1,array2],axis=0)\n",
    "arr1=np.concatenate([array1,array2],axis=1)\n",
    "print(arr)\n",
    "print(arr1)"
   ]
  },
  {
   "cell_type": "code",
   "execution_count": 50,
   "id": "c37911d4-4010-4693-9781-cdadde7cdbae",
   "metadata": {},
   "outputs": [
    {
     "name": "stdout",
     "output_type": "stream",
     "text": [
      "[array([[1],\n",
      "       [4],\n",
      "       [7]]), array([[2],\n",
      "       [5],\n",
      "       [8]]), array([[3],\n",
      "       [6],\n",
      "       [9]])]\n",
      "[array([[1, 2, 3]]), array([[4, 5, 6]]), array([[7, 8, 9]])]\n"
     ]
    }
   ],
   "source": [
    "#Q49. Create a function that splits an array into multiple sub-arrays along a specified axis\n",
    "ori_arr = np.array([[1, 2, 3], [4, 5, 6], [7, 8, 9]])\n",
    "arr=np.hsplit(ori_arr,3)\n",
    "print(arr)\n",
    "arr1=np.vsplit(ori_arr,3)\n",
    "print(arr1)\n"
   ]
  },
  {
   "cell_type": "code",
   "execution_count": 51,
   "id": "50c2704e-bf46-4a36-b36f-918d57fd5358",
   "metadata": {},
   "outputs": [
    {
     "name": "stdout",
     "output_type": "stream",
     "text": [
      "[ 1  2 10  3  4  5]\n",
      "[ 1  2  3  4 11  5]\n",
      "[1 3 5]\n",
      "[1 3 5]\n"
     ]
    }
   ],
   "source": [
    "#Q50. Write a function that inserts and then deletes elements from a given array at specified indices\n",
    "ori_arr=np.array([1,2,3,4,5])\n",
    "indice_to_insert=[2,4]\n",
    "value_to_insert=[10,11]\n",
    "indice_to_delete=[1,3]\n",
    "def func1_insert(ori_arr,indice_to_insert,value_to_insert):\n",
    "    for i in range(len(value_to_insert)):\n",
    "        arr1=np.insert(ori_arr,indice_to_insert[i],value_to_insert[i])\n",
    "        print(arr1)\n",
    "def func1_delete(ori_arr,indice_to_delete):\n",
    "    for i in range(len(indice_to_delete)):\n",
    "        x=ori_arr[i]\n",
    "        new_arr1=np.delete(ori_arr,indice_to_delete)\n",
    "        print(new_arr1)\n",
    "# print(ori_arr)        \n",
    "# print(new_arr1)       \n",
    "func1_insert(ori_arr,indice_to_insert,value_to_insert)\n",
    "func1_delete(ori_arr,indice_to_delete)\n"
   ]
  },
  {
   "cell_type": "code",
   "execution_count": 52,
   "id": "71cd7380-9e4a-4f43-b433-3135551adae0",
   "metadata": {},
   "outputs": [
    {
     "name": "stdout",
     "output_type": "stream",
     "text": [
      "[[5 3 7]\n",
      " [7 4 5]\n",
      " [7 7 4]]\n",
      "[[8 3 1]\n",
      " [9 2 5]\n",
      " [6 5 5]]\n",
      "[[13  6  8]\n",
      " [16  6 10]\n",
      " [13 12  9]]\n"
     ]
    }
   ],
   "source": [
    "#Q51.  Create a NumPy array `arr1` with random integers and another array `arr2` with integers from 1 to 10. \n",
    "# Perform element-wise addition between `arr1` and `arr2`\n",
    "arr1=np.random.randint(1,10,(3,3))\n",
    "arr2=np.random.randint(1,10,(3,3))\n",
    "arr=arr1+arr2\n",
    "print(arr1)\n",
    "print(arr2)\n",
    "print(arr)\n"
   ]
  },
  {
   "cell_type": "code",
   "execution_count": 53,
   "id": "e5ea1678-dd6b-49db-b241-06cb2d20376f",
   "metadata": {},
   "outputs": [
    {
     "name": "stdout",
     "output_type": "stream",
     "text": [
      "[ 1  2  3  4  5  6  7  8  9 10]\n",
      "[[ 1  2  3  4  5]\n",
      " [ 6  7  8  9 10]]\n",
      "[10  9  8  7  6  5  4  3  2  1]\n",
      "[[10  9  8  7  6]\n",
      " [ 5  4  3  2  1]]\n",
      "[[-9 -7 -5 -3 -1]\n",
      " [ 1  3  5  7  9]]\n"
     ]
    }
   ],
   "source": [
    "#Q52. Generate a NumPy array `arr1` with sequential integers from 10 to 1 and another array `arr2` with integers \n",
    "# from 1 to 10. Subtract `arr2` from `arr1` element-wise\n",
    "arr1=np.arange(1,11,1)\n",
    "print(arr1)\n",
    "arr=arr1.reshape(2,5)\n",
    "print(arr)\n",
    "arr2=np.arange(10,0,-1)\n",
    "print(arr2)\n",
    "arr3=arr2.reshape(2,5)\n",
    "print(arr3)\n",
    "final_arr=arr-arr3\n",
    "print(final_arr)\n"
   ]
  },
  {
   "cell_type": "code",
   "execution_count": 54,
   "id": "f3d3134e-f7ef-4e07-acc9-dfd54f437262",
   "metadata": {},
   "outputs": [
    {
     "name": "stdout",
     "output_type": "stream",
     "text": [
      "[[4 8 9]\n",
      " [6 2 4]\n",
      " [2 3 8]]\n"
     ]
    }
   ],
   "source": [
    "#Q53. Create a NumPy array `arr1` with random integers and another array `arr2` with integers from 1 to 5. \n",
    "# Perform element-wise multiplication between `arr1` and `arr2`.\n",
    "arr1=np.random.randint(1,5,(3,3))\n",
    "arr2=np.random.randint(1,5,(3,3))\n",
    "arr=arr1*arr2\n",
    "print(arr)"
   ]
  },
  {
   "cell_type": "code",
   "execution_count": 55,
   "id": "b261bd2f-5212-49e5-8efd-17058c6535d6",
   "metadata": {},
   "outputs": [
    {
     "name": "stdout",
     "output_type": "stream",
     "text": [
      "[[2.   1.5  2.  ]\n",
      " [1.   1.   1.  ]\n",
      " [0.25 0.25 0.5 ]]\n"
     ]
    }
   ],
   "source": [
    "#Q54. Generate a NumPy array `arr1` with even integers from 2 to 10 and another array `arr2` with integers from 1 \n",
    "# to 5. Perform element-wise division of `arr1` by `arr2`.\n",
    "arr1=np.random.randint(1,5,(3,3))\n",
    "arr2=np.random.randint(1,5,(3,3))\n",
    "arr=arr1/arr2\n",
    "print(arr)"
   ]
  },
  {
   "cell_type": "code",
   "execution_count": 56,
   "id": "ecc7a9c5-ccd0-43cf-95c2-30ae8f3c6334",
   "metadata": {},
   "outputs": [
    {
     "name": "stdout",
     "output_type": "stream",
     "text": [
      "[[1 4 4]\n",
      " [4 2 3]\n",
      " [1 1 2]]\n",
      "[[1 1 2]\n",
      " [4 2 3]\n",
      " [1 4 4]]\n",
      "[[  1   4  16]\n",
      " [256   4  27]\n",
      " [  1   1  16]]\n"
     ]
    }
   ],
   "source": [
    "#Q55.  Create a NumPy array `arr1` with integers from 1 to 5 and another array `arr2` with the same numbers \n",
    "# reversed. Calculate the exponentiation of `arr1` raised to the power of `arr2` element-wise.\n",
    "arr1=np.random.randint(1,5,(3,3))\n",
    "print(arr1)\n",
    "arr2=arr1[::-1]\n",
    "print(arr2)\n",
    "arr=arr1**arr2\n",
    "print(arr)\n"
   ]
  },
  {
   "cell_type": "code",
   "execution_count": 57,
   "id": "5c571872-63e2-4285-b3cd-5bc0581a6db8",
   "metadata": {},
   "outputs": [
    {
     "name": "stdout",
     "output_type": "stream",
     "text": [
      "1\n"
     ]
    }
   ],
   "source": [
    "#Q56. Write a function that counts the occurrences of a specific substring within a NumPy array of strings.\n",
    "def count_function(arr, word):\n",
    "    count=0\n",
    "    for i in arr:\n",
    "        if word==i:\n",
    "            count=count+1\n",
    "    return count        \n",
    "\n",
    "\n",
    "arr = np.array(['hello', 'world', 'hello', 'numpy', 'hello'])\n",
    "\n",
    "import random \n",
    "x=random.randint(0,5)\n",
    "y=count_function(arr,arr[x])\n",
    "print(y)\n"
   ]
  },
  {
   "cell_type": "code",
   "execution_count": 58,
   "id": "8ac4872b-c538-408c-9210-4a661350a87f",
   "metadata": {},
   "outputs": [
    {
     "name": "stdout",
     "output_type": "stream",
     "text": [
      "['GPT']\n"
     ]
    }
   ],
   "source": [
    "#Q57.  Write a function that extracts uppercase characters from a NumPy array of strings.\n",
    "ar1=[]\n",
    "def extract_uppercase(arr):\n",
    "    for i in arr:\n",
    "        if i.isupper()==True:\n",
    "            ar1.append(i)\n",
    "\n",
    "            \n",
    "arr = np.array(['Hello', 'World', 'OpenAI', 'GPT'])\n",
    "extract_uppercase(arr)\n",
    "print(ar1)\n",
    "\n",
    "         "
   ]
  },
  {
   "cell_type": "code",
   "execution_count": 59,
   "id": "a3f4c6ac-69f6-42d4-9466-d1e7ca645ebd",
   "metadata": {},
   "outputs": [
    {
     "name": "stdin",
     "output_type": "stream",
     "text": [
      "Enter strring is : kela\n"
     ]
    },
    {
     "name": "stdout",
     "output_type": "stream",
     "text": [
      "['kela' 'banana' 'grape' 'pineapple']\n"
     ]
    }
   ],
   "source": [
    "#Q58. Write a function that replaces occurrences of a substring in a NumPy array of strings with a new string.\n",
    "def func_replace(arr,x,r_string):\n",
    "    arr[x]=r_string\n",
    "arr = np.array(['apple', 'banana', 'grape', 'pineapple'])\n",
    "import random\n",
    "x=random.randint(0,4)\n",
    "\n",
    "stri=input(\"Enter strring is :\")\n",
    "\n",
    "func_replace(arr,x,stri)\n",
    "print(arr)\n",
    "\n"
   ]
  },
  {
   "cell_type": "code",
   "execution_count": 60,
   "id": "70b31fe4-ebee-4e11-933e-4207e9331a9b",
   "metadata": {},
   "outputs": [
    {
     "name": "stdout",
     "output_type": "stream",
     "text": [
      "['satyam saurabh', 'shashank', 'ankur kumar', 'good luck']\n"
     ]
    }
   ],
   "source": [
    "#Q59. Write a function that concatenates strings in a NumPy array element-wise.\n",
    "str3=[]\n",
    "def func_concate(str1,str2):\n",
    "    for i in range(len(str1)):\n",
    "        s=str1[i]+str2[i]\n",
    "        str3.append(s)\n",
    "ls=[\"satyam\",\"shash\",\"ankur\",\"good\"]\n",
    "ls1=[\" saurabh\",\"ank\",\" kumar\",\" luck\"]\n",
    "str1=np.array(ls)\n",
    "str2=np.array(ls1)\n",
    "func_concate(str1,str2)\n",
    "print(str3)\n"
   ]
  },
  {
   "cell_type": "code",
   "execution_count": 61,
   "id": "b03eb200-c710-4ba4-bbd8-d153b9da70ff",
   "metadata": {},
   "outputs": [
    {
     "name": "stdout",
     "output_type": "stream",
     "text": [
      "9\n"
     ]
    }
   ],
   "source": [
    "#Q60. Write a function that finds the length of the longest string in a NumPy array.\n",
    "leng=0\n",
    "def func_longest_string(arr,leng):\n",
    "    for i in arr:\n",
    "        if len(i)>leng:\n",
    "            leng=len(i)\n",
    "    return leng        \n",
    "arr = np.array(['apple', 'banana', 'grape', 'pineapple'])\n",
    "x=func_longest_string(arr,leng)\n",
    "print(x)\n"
   ]
  },
  {
   "cell_type": "code",
   "execution_count": 62,
   "id": "d046de6f-d828-40d4-ad76-57ab958fc131",
   "metadata": {},
   "outputs": [
    {
     "name": "stdout",
     "output_type": "stream",
     "text": [
      "[ 16 708 551 531 223 386 174 674 544 130 314 299 614 145 309 849 924  35\n",
      "  69 744 489 423 920 691 397 362 937 775  27 905 925 702 224 583 793 414\n",
      " 449 905   5 296 317 178 774 123  90 508 933 555 645 746 877 707  51 212\n",
      " 148 927 653 865 164 568 655 910 347 409 854 801 337 309 928 697 601 175\n",
      "  86 504  68 972 407 360 749 616  16  48 836 878 941 775 922 640 420 662\n",
      " 816  85  24 301 480 378 654 861 601 958]\n",
      "515.83\n",
      "547.5\n",
      "88806.2411\n",
      "298.00376021117586\n"
     ]
    }
   ],
   "source": [
    "#Q61.  Create a dataset of 100 random integers between 1 and 1000. Compute the mean, median, variance, and \n",
    "# standard deviation of the dataset using NumPy's functions.\n",
    "                                                                                                                                                                                                                                                                                                                                                                                                                                                                                                                                                                                                                                                                                                                                                                                                                                                                                                                                                                                                                                                                                                                                                                                                                                                                                                                                                                                                                                                                                                                                                                                                                                                                                                                                                                                                                                                                                                                                                                                                                                                                                                                                                                                                                                                                                                                                                                                                                                                                                                                                                                                                                                                                                                                                                                                                                                                                                                                                                                                                                                                                                                                                                                                                                                                                                                                                                                                                                                                                                                                                                                                                                                                                                                                                                                                                                                                                                                                                                                                                                                                                                                                                                                                                                                                                                                                                                                                                                                                                                                                                                                                                                                                                                                                                                                                                                                                                                                                                                                                                                                                                                                                                                                                                                                                                                                                                                                                                                                                                                                                                                                                                                                                                                                                                                                                                                                                                                                                                                                                                                                                                                                                                                                                                                                                                                                                                                                                                                                                                                                                                                                                                                                                                                                                                                                                                                                                                                                                                                                                                                                                                                                                                                                                                                                                                                                                                                                                                                                                                                                                                                                                                                                                                                                                                                                                                                                                                                                                                                                                                                                                                                                                                                                                                                                                                                                                                                                                                                                                                                                                                                                                                                                                                                                                                                                                                                                                                                                                                                                                                                                                                                                                                                                                                                                                                                                                                                                                                                                                                                                                                                                                                                                                                                                                                                                                                                                                                                                                                                                                                                                                                                                                                                                                                                                                                                                                                                                                                                                                                                                                                                                                                                                                                                                                                                                                                                                                                                                                                                                                                                                                                                                                                                                          \n",
    "arr=np.random.randint(1,1000,100)\n",
    "print(arr.mean())\n",
    "print(np.median(arr))\n",
    "print(arr.var())\n",
    "print(arr.std())\n"
   ]
  },
  {
   "cell_type": "code",
   "execution_count": 63,
   "id": "8e87b515-df19-4146-8fff-c9ca2cd0b495",
   "metadata": {},
   "outputs": [
    {
     "name": "stdout",
     "output_type": "stream",
     "text": [
      " the 25th percentile is:  31.0\n",
      " the 75th percentile is:  70.75\n"
     ]
    }
   ],
   "source": [
    "#Q62.Generate an array of 50 random numbers between 1 and 100. Find the 25th and 75th percentiles of the \n",
    "# dataset.\n",
    "arr=np.random.randint(1,100,50)\n",
    "percentile=np.percentile(arr,[25,75])\n",
    "print(\" the 25th percentile is: \",percentile[0])\n",
    "print(\" the 75th percentile is: \",percentile[1])\n"
   ]
  },
  {
   "cell_type": "code",
   "execution_count": 64,
   "id": "ce0e411e-749e-4d9b-9bd8-c849a32815f1",
   "metadata": {},
   "outputs": [
    {
     "name": "stdout",
     "output_type": "stream",
     "text": [
      "0.1643989873053573\n"
     ]
    }
   ],
   "source": [
    "#Q63.  Create two arrays representing two sets of variables. Compute the correlation coefficient between these \n",
    "# arrays using NumPy's `corrcoef` function. \n",
    "ls1=[1,2,3,4,5]\n",
    "ls2=[4,3,2,1,6]\n",
    "arr1=np.array(ls1)\n",
    "arr2=np.array(ls2)\n",
    "coef_mat=np.corrcoef(arr1,arr2)\n",
    "print(coef_mat[0,1]) # this give the correlation coefficient between arr1 and arr2.\n"
   ]
  },
  {
   "cell_type": "code",
   "execution_count": 65,
   "id": "1327c447-bd17-4a84-b4db-36f6678940a4",
   "metadata": {},
   "outputs": [
    {
     "name": "stdout",
     "output_type": "stream",
     "text": [
      "[[ 59  95  77]\n",
      " [ 91 133 114]\n",
      " [ 57  96  90]]\n"
     ]
    }
   ],
   "source": [
    "#Q64. Create two matrices and perform matrix multiplication using NumPy's `dot` function.\n",
    "arr1=np.random.randint(1,10,(3,3))\n",
    "arr2=np.random.randint(1,10,(3,3))\n",
    "print(np.dot(arr1,arr2))\n"
   ]
  },
  {
   "cell_type": "code",
   "execution_count": 66,
   "id": "030239e7-af4a-4d84-913e-7f4152d27de4",
   "metadata": {},
   "outputs": [
    {
     "name": "stdout",
     "output_type": "stream",
     "text": [
      " the 10th percentiles : 196.0\n",
      " the 50th percentiles : 524.0\n",
      " the 90th percentiles : 851.3\n"
     ]
    }
   ],
   "source": [
    "#Q65. Create an array of 50 integers between 10 and 1000. Calculate the 10th, 50th (median), and 90th \n",
    "# percentiles along with the first and third quartiles.\n",
    "# we have function np.percentile(arr,[list of number which is numberth percentile])\n",
    "arr=np.random.randint(10,1000,50)\n",
    "\n",
    "percentile=np.percentile(arr,[10,50,90])\n",
    "print(\" the 10th percentiles :\",percentile[0])\n",
    "print(\" the 50th percentiles :\",percentile[1])\n",
    "print(\" the 90th percentiles :\",percentile[2])\n"
   ]
  },
  {
   "cell_type": "code",
   "execution_count": 69,
   "id": "1cb86fdc-62d6-4a04-9970-75f6352fe689",
   "metadata": {},
   "outputs": [
    {
     "name": "stdout",
     "output_type": "stream",
     "text": [
      "[ 2  3  4  6  7  8  9 10]\n"
     ]
    },
    {
     "name": "stdin",
     "output_type": "stream",
     "text": [
      "Enter your element:  5\n"
     ]
    },
    {
     "name": "stdout",
     "output_type": "stream",
     "text": [
      "Element not found.\n"
     ]
    }
   ],
   "source": [
    "#Q66. Create a NumPy array of integers and find the index of a specific element.\n",
    "import numpy as np\n",
    "\n",
    "def find_element_index(arr, ele):\n",
    "    \n",
    "    indices = np.where(arr == ele)[0]\n",
    "    if indices.size > 0:\n",
    "        return indices[0]\n",
    "    else:\n",
    "        return \"Element not found.\"\n",
    "arr = np.array([2, 3, 4, 6, 7, 8, 9, 10])\n",
    "print(arr)\n",
    "ele = int(input(\"Enter your element: \"))\n",
    "index = find_element_index(arr, ele)\n",
    "print(f\"The index is: {index}\" if isinstance(index, int) else index)\n"
   ]
  },
  {
   "cell_type": "code",
   "execution_count": 70,
   "id": "0cbce541-dc0b-459e-a835-9b218af7fc6d",
   "metadata": {},
   "outputs": [
    {
     "name": "stdout",
     "output_type": "stream",
     "text": [
      "[1 2 3 4 5 6 8]\n"
     ]
    }
   ],
   "source": [
    "#Q67. Generate a random NumPy array and sort it in ascending order.\n",
    "ls=[1,3,4,5,8,6,2]\n",
    "arr=np.array(ls)\n",
    "arr1=np.sort(arr)\n",
    "print(arr1)\n"
   ]
  },
  {
   "cell_type": "code",
   "execution_count": 71,
   "id": "6255571f-4ac3-48e0-828e-49e5054e8191",
   "metadata": {},
   "outputs": [
    {
     "name": "stdout",
     "output_type": "stream",
     "text": [
      "[25 42 30]\n"
     ]
    }
   ],
   "source": [
    "#Q68. Filter elements >20  in the given NumPy array\n",
    "arr = np.array([12, 25, 6, 42, 8, 30])\n",
    "arr1=arr[list(arr>20)]\n",
    "print(arr1)\n"
   ]
  },
  {
   "cell_type": "code",
   "execution_count": 72,
   "id": "263cbed7-6b39-4f17-bc60-0802364eb4f8",
   "metadata": {},
   "outputs": [
    {
     "name": "stdout",
     "output_type": "stream",
     "text": [
      "[12, 15]\n"
     ]
    }
   ],
   "source": [
    "#Q69. Filter elements which are divisible by 3 from a given NumPy array\n",
    "arr = np.array([1, 5, 8, 12, 15])\n",
    "arr1=list(filter(lambda x:x%3==0,arr))\n",
    "print(arr1)\n"
   ]
  },
  {
   "cell_type": "code",
   "execution_count": 73,
   "id": "e4e15e93-c986-4bd8-8db0-ca15fefcc20a",
   "metadata": {},
   "outputs": [
    {
     "name": "stdout",
     "output_type": "stream",
     "text": [
      "[20, 30, 40]\n"
     ]
    }
   ],
   "source": [
    "#Q70. Filter elements which are ≥ 20 and ≤ 40 from a given NumPy array.\n",
    "arr = np.array([10, 20, 30, 40, 50])\n",
    "arr1=list(filter(lambda x:x>=20 and x<=40,arr))\n",
    "print(arr1)"
   ]
  },
  {
   "cell_type": "code",
   "execution_count": 74,
   "id": "60b581c5-470a-4650-a0c7-de629d54d518",
   "metadata": {},
   "outputs": [
    {
     "name": "stdout",
     "output_type": "stream",
     "text": [
      "=\n"
     ]
    }
   ],
   "source": [
    "#Q71. For the given NumPy array, check its byte order using the `dtype` attribute byteorder\n",
    "arr = np.array([1, 2, 3])\n",
    "x=arr.dtype.byteorder\n",
    "print(x)  # it give '='when byteorder of array is 'little' and '|' when byteorder of array is 'big'\n"
   ]
  },
  {
   "cell_type": "code",
   "execution_count": 75,
   "id": "31da883b-df73-49b2-a9ed-5d39a5ab849d",
   "metadata": {},
   "outputs": [
    {
     "name": "stdout",
     "output_type": "stream",
     "text": [
      "[ 144115188075855872  216172782113783808  288230376151711744\n",
      "  360287970189639680  432345564227567616 5620492334958379008\n",
      "  648518346341351424]\n"
     ]
    }
   ],
   "source": [
    "#Q72. For the given NumPy array, perform byte swapping in place using `byteswap()`.\n",
    "arr=np.array([2,3,4,5,6,78,9])\n",
    "arr1=arr.byteswap()\n",
    "print(arr1)\n",
    "\n"
   ]
  },
  {
   "cell_type": "code",
   "execution_count": 76,
   "id": "3eb58dba-c80c-48f9-889e-c54f0adf7ba3",
   "metadata": {},
   "outputs": [
    {
     "name": "stdout",
     "output_type": "stream",
     "text": [
      "[  72057594037927936  144115188075855872  216172782113783808\n",
      "  288230376151711744  360287970189639680 4827858800541171712\n",
      "  576460752303423488 6485183463413514240]\n"
     ]
    }
   ],
   "source": [
    "#Q73. For the given NumPy array, swap its byte order without modifying the original array using \n",
    "# `newbyteorder()`\n",
    "arr=np.array([1,2,3,4,5,67,8,90])\n",
    "arr1=arr.newbyteorder()   # byteorder is not callable but newbyteorder is callable.\n",
    "print(arr1)\n"
   ]
  },
  {
   "cell_type": "code",
   "execution_count": 77,
   "id": "26402f4a-e417-46a0-8400-a1924d232b54",
   "metadata": {},
   "outputs": [
    {
     "name": "stdout",
     "output_type": "stream",
     "text": [
      "[16777216 33554432 50331648]\n"
     ]
    }
   ],
   "source": [
    "#Q74.  For the given NumPy array and swap its byte order conditionally based on system endianness using \n",
    "# `newbyteorder()`.\n",
    "import sys\n",
    "arr = np.array([1, 2, 3], dtype=np.int32)\n",
    "arr=arr.newbyteorder('big' if sys.byteorder=='little' else 'little') \n",
    "# from this function newbyteorder -> we convert one byteorder to another\n",
    "print(arr)\n",
    "\n"
   ]
  },
  {
   "cell_type": "code",
   "execution_count": 78,
   "id": "20c8aa4f-c8c3-4355-96ba-bd33710a3e47",
   "metadata": {},
   "outputs": [
    {
     "name": "stdout",
     "output_type": "stream",
     "text": [
      "not needed\n"
     ]
    }
   ],
   "source": [
    "#Q75. For the given NumPy array, check if byte swapping is necessary for the current system using `dtype` \n",
    "# attribute `byteorder`.\n",
    "import sys\n",
    "arr = np.array([1, 2, 3], dtype=np.int32)\n",
    "byte_swap_needed =  (sys.byteorder=='int32')\n",
    "if byte_swap_needed:\n",
    "    print(\"it is needed\")\n",
    "else:\n",
    "    print(\"not needed\")    \n",
    "\n"
   ]
  },
  {
   "cell_type": "code",
   "execution_count": 79,
   "id": "55edb5ef-effb-4717-825f-e50b0c3e58c2",
   "metadata": {},
   "outputs": [
    {
     "name": "stdout",
     "output_type": "stream",
     "text": [
      "[ 1  2  3  4  5  6  7  8  9 10]\n",
      "[ 1  2  3  4  5  6  7  8  9 10]\n",
      "[  1   2   3   4 100   6   7   8   9  10]\n"
     ]
    }
   ],
   "source": [
    "#Q76.  Create a NumPy array `arr1` with values from 1 to 10. Create a copy of `arr1` named `copy_arr` and modify \n",
    "# an element in `copy_arr`. Check if modifying `copy_arr` affects `arr1`.\n",
    "ls=[1,2,3,4,5,6,7,8,9,10]\n",
    "arr=np.array(ls)\n",
    "# print(arr)\n",
    "arr1=arr.copy()\n",
    "print(arr1)\n",
    "arr1[4]=100\n",
    "print(arr)\n",
    "print(arr1)\n",
    "# don't effect 'arr1'\n"
   ]
  },
  {
   "cell_type": "code",
   "execution_count": 80,
   "id": "3bc944f2-73d2-474b-bb38-b1c3932665bd",
   "metadata": {},
   "outputs": [
    {
     "name": "stdout",
     "output_type": "stream",
     "text": [
      "[[   8   10]\n",
      " [   2 1000]]\n",
      "[[   9    6    7]\n",
      " [   1    8   10]\n",
      " [   2    2 1000]]\n"
     ]
    }
   ],
   "source": [
    "#Q77. Create a 2D NumPy array `matrix` of shape (3, 3) with random integers. Extract a slice `view_slice` from \n",
    "# the matrix. Modify an element in `view_slice` and observe if it changes the original `matrix`.\n",
    "arr=np.random.randint(1,10,(3,3))\n",
    "arr1=arr[1:,1:]\n",
    "arr1[0][1]=10\n",
    "arr1[1][1]=1000\n",
    "print(arr1)\n",
    "print(arr)\n"
   ]
  },
  {
   "cell_type": "code",
   "execution_count": 82,
   "id": "8fddde62-24f4-4d07-965f-4cfb6fd64646",
   "metadata": {},
   "outputs": [
    {
     "name": "stdout",
     "output_type": "stream",
     "text": [
      "[ 9 10 11]\n",
      "[[ 1  2  3]\n",
      " [ 4  5  6]\n",
      " [ 7  8  9]\n",
      " [10 11 12]]\n"
     ]
    }
   ],
   "source": [
    "#Q78. Create a NumPy array `array_a` of shape (4, 3) with sequential integers from 1 to 12. Extract a slice \n",
    "# `view_b` from `array_a` and broadcast the addition of 5 to view_b. Check if it alters the original `array_a`.\n",
    "ls=[i for i in range(1,13)]\n",
    "arr=np.array(ls)\n",
    "arr1=arr.reshape((4,3))\n",
    "arr2=arr1[1]\n",
    "print(arr2+5)\n",
    "print(arr1)\n",
    "# not effected\n"
   ]
  },
  {
   "cell_type": "code",
   "execution_count": 84,
   "id": "26cfd793-5e5e-4075-a763-8e72790f0808",
   "metadata": {},
   "outputs": [
    {
     "name": "stdout",
     "output_type": "stream",
     "text": [
      "[[1 2]\n",
      " [3 4]\n",
      " [5 6]\n",
      " [7 8]]\n",
      "[[  1   2]\n",
      " [  3   4]\n",
      " [  5  20]\n",
      " [  7 100]]\n",
      "[[  1   2   3   4]\n",
      " [  5  20   7 100]]\n"
     ]
    }
   ],
   "source": [
    "#Q79.  Create a NumPy array `orig_array` of shape (2, 4) with values from 1 to 8. Create a reshaped view \n",
    "# `reshaped_view` of shape (4, 2) from orig_array. Modify an element in `reshaped_view` and check if it \n",
    "# reflects changes in the original `orig_array`.\n",
    "ls=[i for i in range(1,9)]\n",
    "arr=np.array(ls)\n",
    "arr1=arr.reshape((2,4))\n",
    "arr2=arr1.reshape((4,2))\n",
    "print(arr2)\n",
    "arr2[3][1]=100\n",
    "arr2[2][1]=20\n",
    "print(arr2)\n",
    "print(arr1)\n",
    "# affected arr1\n"
   ]
  },
  {
   "cell_type": "code",
   "execution_count": 85,
   "id": "669d8614-8f24-4531-b0ad-b16ef36ea139",
   "metadata": {},
   "outputs": [
    {
     "name": "stdout",
     "output_type": "stream",
     "text": [
      "[[19  2 12  6]\n",
      " [11 16 15 11]\n",
      " [10 17 18 15]]\n",
      "[19 12  6 11 16 15 11 10 17 18 15]\n",
      "[19 12  6 11 26 21 11 10 17 18 15]\n",
      "[[19  2 12  6]\n",
      " [11 16 15 11]\n",
      " [10 17 18 15]]\n"
     ]
    }
   ],
   "source": [
    "#Q80. Create a NumPy array `data` of shape (3, 4) with random integers. Extract a copy `data_copy` of \n",
    "# elements greater than 5. Modify an element in `data_copy` and verify if it affects the original `data`.\n",
    "arr=np.random.randint(1,20,(3,4))\n",
    "print(arr)\n",
    "arr1=arr[arr>5]\n",
    "print(arr1)\n",
    "arr1[5]=21\n",
    "arr1[4]=26\n",
    "print(arr1)\n",
    "print(arr)\n",
    "# not effected\n"
   ]
  },
  {
   "cell_type": "code",
   "execution_count": 86,
   "id": "6d91d2dd-c54f-4dce-9bdb-3dc76c8eb8d3",
   "metadata": {},
   "outputs": [
    {
     "name": "stdout",
     "output_type": "stream",
     "text": [
      "[[11 13  5]\n",
      " [13  7 12]\n",
      " [ 5 15 16]]\n",
      "[[-1  5  3]\n",
      " [ 5  3  2]\n",
      " [-1  3 -2]]\n"
     ]
    }
   ],
   "source": [
    "#81.  Create two matrices A and B of identical shape containing integers and perform addition and subtraction \n",
    "# operations between them.\n",
    "import numpy.matlib as nm \n",
    "arr1=nm.random.randint(1,10,(3,3))\n",
    "arr2=nm.random.randint(1,10,(3,3))\n",
    "print(arr1+arr2)\n",
    "print(arr1-arr2)"
   ]
  },
  {
   "cell_type": "code",
   "execution_count": 87,
   "id": "b0ba0bcd-3aac-48d2-888f-21272a188f0a",
   "metadata": {},
   "outputs": [
    {
     "name": "stdout",
     "output_type": "stream",
     "text": [
      "[[ 77  68 117  27]\n",
      " [ 81  82 117  23]\n",
      " [ 54  65  72  10]]\n"
     ]
    }
   ],
   "source": [
    "#Q82. Generate two matrices `C` (3x2) and `D` (2x4) and perform matrix multiplication\n",
    "arr1=nm.random.randint(1,10,(3,2))\n",
    "arr2=nm.random.randint(1,10,(2,4))\n",
    "print(nm.dot(arr1,arr2))\n"
   ]
  },
  {
   "cell_type": "code",
   "execution_count": 88,
   "id": "698dc701-87ab-4fac-8932-3e621970f9f5",
   "metadata": {},
   "outputs": [
    {
     "name": "stdout",
     "output_type": "stream",
     "text": [
      "[[1 5 8]\n",
      " [8 9 6]\n",
      " [5 3 9]]\n",
      "[[1 8 5]\n",
      " [5 9 3]\n",
      " [8 6 9]]\n"
     ]
    }
   ],
   "source": [
    "#Q83. Create a matrix `E` and find its transpose\n",
    "arr1=nm.random.randint(1,10,(3,3))\n",
    "print(arr1)\n",
    "print(arr1.T)"
   ]
  },
  {
   "cell_type": "code",
   "execution_count": 89,
   "id": "052f55c9-575e-43e6-a086-f66e3a0a422f",
   "metadata": {},
   "outputs": [
    {
     "name": "stdout",
     "output_type": "stream",
     "text": [
      "[[7 4 8]\n",
      " [7 7 1]\n",
      " [3 1 7]]\n",
      "40.000000000000014\n"
     ]
    }
   ],
   "source": [
    "#Q84. Generate a square matrix `F` and compute its determinant\n",
    "arr=nm.random.randint(1,10,(3,3))\n",
    "print(arr)\n",
    "print(np.linalg.det(arr))\n"
   ]
  },
  {
   "cell_type": "code",
   "execution_count": 90,
   "id": "66bf1131-cbdf-4352-a412-686d2742621a",
   "metadata": {},
   "outputs": [
    {
     "name": "stdout",
     "output_type": "stream",
     "text": [
      "[[ 0.33333333  0.         -0.33333333]\n",
      " [ 0.33333333  3.         -2.33333333]\n",
      " [-0.33333333 -1.33333333  1.33333333]]\n"
     ]
    }
   ],
   "source": [
    "#Q85. Create a square matrix `G` and find its inverse.\n",
    "arr=nm.random.randint(1,10,(3,3))\n",
    "print(np.linalg.inv(arr))"
   ]
  },
  {
   "cell_type": "code",
   "execution_count": null,
   "id": "58d86bbe-fff4-41d8-9656-99ce12f0e6b1",
   "metadata": {},
   "outputs": [],
   "source": []
  }
 ],
 "metadata": {
  "kernelspec": {
   "display_name": "Python 3 (ipykernel)",
   "language": "python",
   "name": "python3"
  },
  "language_info": {
   "codemirror_mode": {
    "name": "ipython",
    "version": 3
   },
   "file_extension": ".py",
   "mimetype": "text/x-python",
   "name": "python",
   "nbconvert_exporter": "python",
   "pygments_lexer": "ipython3",
   "version": "3.11.1"
  }
 },
 "nbformat": 4,
 "nbformat_minor": 5
}
